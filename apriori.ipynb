{
 "cells": [
  {
   "cell_type": "code",
   "execution_count": 1,
   "metadata": {
    "pycharm": {
     "is_executing": false
    }
   },
   "outputs": [],
   "source": [
    "file = open('data/retail.dat')\n",
    "file_lines = file.readlines()\n",
    "transactions = []\n",
    "support = 20\n",
    "confidence = .2\n",
    "C = {}\n",
    "for i in file_lines:\n",
    "    transactions.append(i.strip().split())\n",
    "    if len(transactions) == 1000:\n",
    "        break\n",
    "items = set()\n",
    "for i in range(len(transactions)):\n",
    "    for j in range(len(transactions[i])):\n",
    "        items.add(frozenset([transactions[i][j]]))\n",
    "for it in items:\n",
    "    for i in range(len(transactions)):\n",
    "        if it.issubset(transactions[i]):\n",
    "            if it in C:\n",
    "                C[it] += 1\n",
    "            else:\n",
    "                C[it] = 1\n",
    "L = {}\n",
    "for i,j in C.items():\n",
    "    if j >= support:\n",
    "        L[i] = j"
   ]
  },
  {
   "cell_type": "code",
   "execution_count": 2,
   "metadata": {},
   "outputs": [],
   "source": [
    "\n",
    "def getL(support, items, lent, transactions):\n",
    "    items2 = list(items.keys())\n",
    "    L_set = set()\n",
    "    for i in items2:\n",
    "        for j in items2:\n",
    "            if len(i.union(j)) == lent:\n",
    "                L_set.add(i.union(j))\n",
    "    C = {}\n",
    "    for i in range(len(transactions)):\n",
    "        for it in L_set:\n",
    "            if it.issubset(transactions[i]):\n",
    "                if it in C:\n",
    "                    C[it] += 1\n",
    "                else:\n",
    "                    C[it] = 1\n",
    "    L = {}\n",
    "    for i, j in C.items():\n",
    "        if j >= support:\n",
    "            L[i] = j\n",
    "    return L"
   ]
  },
  {
   "cell_type": "code",
   "execution_count": 3,
   "metadata": {},
   "outputs": [
    {
     "name": "stdout",
     "output_type": "stream",
     "text": [
      "frozenset({'39', '38', '41', '48'})   41 \n",
      "\n"
     ]
    }
   ],
   "source": [
    "lent = 2\n",
    "TL = {}\n",
    "TL[1] = L\n",
    "while True:\n",
    "    new_L = getL(support, L, lent, transactions)\n",
    "    if len(new_L) == 0:\n",
    "        break\n",
    "    TL[lent] = new_L\n",
    "    L = new_L\n",
    "    lent += 1\n",
    "for i,j in L.items():\n",
    "    print(i, ' ', j, '\\n')"
   ]
  },
  {
   "cell_type": "code",
   "execution_count": 4,
   "metadata": {},
   "outputs": [
    {
     "name": "stdout",
     "output_type": "stream",
     "text": [
      "{'38', '39'}->{'41', '48'}   0.2662337662337662 \n",
      "\n",
      "{'41', '39'}->{'38', '48'}   0.2192513368983957 \n",
      "\n",
      "{'38', '41'}->{'39', '48'}   0.47674418604651164 \n",
      "\n",
      "{'38', '48'}->{'41', '39'}   0.36936936936936937 \n",
      "\n",
      "{'41', '48'}->{'38', '39'}   0.3178294573643411 \n",
      "\n",
      "{'38', '41', '39'}->{'48'}   0.6119402985074627 \n",
      "\n",
      "{'38', '39', '48'}->{'41'}   0.5 \n",
      "\n",
      "{'41', '39', '48'}->{'38'}   0.3867924528301887 \n",
      "\n",
      "{'38', '41', '48'}->{'39'}   0.8541666666666666 \n",
      "\n"
     ]
    }
   ],
   "source": [
    "import itertools\n",
    "\n",
    "result = {}\n",
    "for it in L:\n",
    "    ele = it\n",
    "    for i in range(1, len(it)):\n",
    "        for a_set in itertools.combinations(it, i):\n",
    "            b_set = it - frozenset(a_set)\n",
    "            a_set = frozenset(a_set)\n",
    "            con = TL[len(a_set.union(b_set))][a_set.union(b_set)] / TL[len(a_set)][a_set]\n",
    "            if con >= confidence:\n",
    "                result[str(set(a_set)) + '->' + str(set(b_set))] = con\n",
    "                \n",
    "for i,j in result.items():\n",
    "    print(i, ' ', j, '\\n')"
   ]
  },
  {
   "cell_type": "code",
   "execution_count": null,
   "metadata": {},
   "outputs": [],
   "source": []
  }
 ],
 "metadata": {
  "kernelspec": {
   "display_name": "Python 3",
   "language": "python",
   "name": "python3"
  },
  "language_info": {
   "codemirror_mode": {
    "name": "ipython",
    "version": 3
   },
   "file_extension": ".py",
   "mimetype": "text/x-python",
   "name": "python",
   "nbconvert_exporter": "python",
   "pygments_lexer": "ipython3",
   "version": "3.6.8"
  },
  "pycharm": {
   "stem_cell": {
    "cell_type": "raw",
    "metadata": {
     "collapsed": false
    },
    "source": []
   }
  },
  "varInspector": {
   "cols": {
    "lenName": 16,
    "lenType": 16,
    "lenVar": 40
   },
   "kernels_config": {
    "python": {
     "delete_cmd_postfix": "",
     "delete_cmd_prefix": "del ",
     "library": "var_list.py",
     "varRefreshCmd": "print(var_dic_list())"
    },
    "r": {
     "delete_cmd_postfix": ") ",
     "delete_cmd_prefix": "rm(",
     "library": "var_list.r",
     "varRefreshCmd": "cat(var_dic_list()) "
    }
   },
   "types_to_exclude": [
    "module",
    "function",
    "builtin_function_or_method",
    "instance",
    "_Feature"
   ],
   "window_display": false
  }
 },
 "nbformat": 4,
 "nbformat_minor": 4
}
